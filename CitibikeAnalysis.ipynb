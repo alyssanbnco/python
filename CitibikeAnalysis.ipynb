{
  "nbformat": 4,
  "nbformat_minor": 0,
  "metadata": {
    "colab": {
      "name": "CitibikeAnalysis.ipynb",
      "version": "0.3.2",
      "provenance": [],
      "collapsed_sections": [],
      "toc_visible": true
    },
    "kernelspec": {
      "name": "python3",
      "display_name": "Python 3"
    }
  },
  "cells": [
    {
      "cell_type": "markdown",
      "metadata": {
        "id": "6s4Q6mi5Zd1X",
        "colab_type": "text"
      },
      "source": [
        "#Citibike Analysis\n",
        "##Problem statement\n",
        "Citibike publishes trip data for bikes in NYC. The data is available to the public \"for analysis, development, visualization and whatever else moves you.\"\n",
        "\n",
        "##Dataset\n",
        "Citibike publishes downloadable files of Citi Bike trip data. The data includes:\n",
        "\n",
        "\n",
        "* Trip Duration (seconds)\n",
        "* Start Time and Date\n",
        "* Stop Time and Date\n",
        "* Start Station Name\n",
        "* End Station Name\n",
        "* Station ID\n",
        "* Station Lat/Long\n",
        "* Bike ID\n",
        "* User Type (Customer = 24-hour pass or 3-day pass user; Subscriber = Annual Member)\n",
        "* Gender (Zero=unknown; 1=male; 2=female)\n",
        "* Year of Birth\n",
        "\n",
        "\n",
        "This data has been processed to remove trips that are taken by staff as they service and inspect the system. More information can be found on the [Citibike website](https://www.citibikenyc.com/system-data).\n",
        "\n",
        "##Hypothesis\n",
        "###The stations most frequented by subscribers correspond to weekday commutes\n",
        "I suspect subscribers are intending to use Citibikes as part of a routine. Focusing on commutes, I'll look to answer:\n",
        "1. Which stations are the most frequented by subscribers? \n",
        "2. Which stations are the most popular destinations?\n",
        "3. Are the top most trafficked stations the same on weekdays as on weekends?\n",
        "\n",
        "##Conclusions\n",
        "###Additional analysis would include comparing trips taken on weekdays and weekends.\n",
        "1. Stations most frequented by subscribers in 2018: \n",
        "2. 2018 subscriber's most traveled trip: \n",
        "\n",
        "##End product\n",
        "###Input: user provided start station name, output: suggest end station names that have been historically popular\n",
        "\n"
      ]
    },
    {
      "cell_type": "markdown",
      "metadata": {
        "id": "OevApqoOjyCZ",
        "colab_type": "text"
      },
      "source": [
        "#Step 1: Combining datasets"
      ]
    },
    {
      "cell_type": "code",
      "metadata": {
        "id": "y5i6EoyBjxn4",
        "colab_type": "code",
        "outputId": "67d4a7fa-2a44-4d12-d4c8-330caf4631b9",
        "colab": {
          "base_uri": "https://localhost:8080/",
          "height": 105
        }
      },
      "source": [
        "import glob\n",
        "import pandas as pd\n",
        "import numpy as np\n",
        "import matplotlib.pyplot as plt\n",
        "\n",
        "#Data for 2018 is published by month, resulting in 12 separate .csv files\n",
        "files = glob.glob('2018*.csv')\n",
        "print(files)\n",
        "\n",
        "#Using glob to read the 3 files that represent 2018-Q2 in one line\n",
        "df = pd.concat([pd.read_csv(f, engine='python', error_bad_lines = False) for f in glob.iglob('2018*.csv')], ignore_index = True)\n"
      ],
      "execution_count": 0,
      "outputs": [
        {
          "output_type": "stream",
          "text": [
            "['201803-citibike-tripdata.csv', '201811-citibike-tripdata.csv', '201806-citibike-tripdata.csv', '201812-citibike-tripdata.csv', '201808-citibike-tripdata.csv', '201805-citibike-tripdata.csv', '201802-citibike-tripdata.csv', '201801-citibike-tripdata.csv', '201810-citibike-tripdata.csv', '201807-citibike-tripdata.csv', '201809-citibike-tripdata.csv', '201804-citibike-tripdata.csv']\n"
          ],
          "name": "stdout"
        },
        {
          "output_type": "stream",
          "text": [
            "Skipping line 1288177: unexpected end of data\n",
            "Skipping line 1305242: unexpected end of data\n",
            "Skipping line 1309825: unexpected end of data\n"
          ],
          "name": "stderr"
        }
      ]
    },
    {
      "cell_type": "markdown",
      "metadata": {
        "id": "eHhquZivm9f1",
        "colab_type": "text"
      },
      "source": [
        "#Step 2: Explore and scrub data"
      ]
    },
    {
      "cell_type": "code",
      "metadata": {
        "id": "VRo5K4-9PtCU",
        "colab_type": "code",
        "outputId": "7a941c7d-a09b-4462-c4db-8cf4eaef511c",
        "colab": {
          "base_uri": "https://localhost:8080/",
          "height": 357
        }
      },
      "source": [
        "#Shape of dataframe\n",
        "print('Rows, Columns', df.shape, '\\n')\n",
        "\n",
        "#Columns in dataframe\n",
        "print(df.dtypes, '\\n')\n",
        "\n",
        "#clear whitespace from column names\n",
        "df.rename(columns=lambda x: x.strip(), inplace=True)\n",
        "\n",
        "#Sanity check that data from all files has been read (Jan 2018 - Dec 2018)\n",
        "min_date = min(df['starttime'])\n",
        "max_date = max(df['starttime'])\n",
        "print('Date range: ', min_date, ' - ', max_date)"
      ],
      "execution_count": 0,
      "outputs": [
        {
          "output_type": "stream",
          "text": [
            "Rows, Columns (13401484, 15) \n",
            "\n",
            "tripduration                 int64\n",
            "starttime                   object\n",
            "stoptime                    object\n",
            "start station id           float64\n",
            "start station name          object\n",
            "start station latitude     float64\n",
            "start station longitude    float64\n",
            "end station id             float64\n",
            "end station name            object\n",
            "end station latitude       float64\n",
            "end station longitude      float64\n",
            "bikeid                     float64\n",
            "usertype                    object\n",
            "birth year                 float64\n",
            "gender                     float64\n",
            "dtype: object \n",
            "\n",
            "Date range:  2018-01-01 00:01:50.6500  -  2018-12-31 23:59:51.0850\n"
          ],
          "name": "stdout"
        }
      ]
    },
    {
      "cell_type": "code",
      "metadata": {
        "id": "n9ikA7IhkvEd",
        "colab_type": "code",
        "outputId": "24975cce-014d-48ae-c13b-4e72de52d20d",
        "colab": {
          "base_uri": "https://localhost:8080/",
          "height": 289
        }
      },
      "source": [
        "#Drop rows with null values\n",
        "df.dropna(inplace=True)\n",
        "print(df.isnull().sum())"
      ],
      "execution_count": 0,
      "outputs": [
        {
          "output_type": "stream",
          "text": [
            "tripduration               0\n",
            "starttime                  0\n",
            "stoptime                   0\n",
            "start station id           0\n",
            "start station name         0\n",
            "start station latitude     0\n",
            "start station longitude    0\n",
            "end station id             0\n",
            "end station name           0\n",
            "end station latitude       0\n",
            "end station longitude      0\n",
            "bikeid                     0\n",
            "usertype                   0\n",
            "birth year                 0\n",
            "gender                     0\n",
            "dtype: int64\n"
          ],
          "name": "stdout"
        }
      ]
    },
    {
      "cell_type": "markdown",
      "metadata": {
        "id": "RB1nF8KArGRb",
        "colab_type": "text"
      },
      "source": [
        "##Step 2a: Remove false starts and unreasonably long trips"
      ]
    },
    {
      "cell_type": "code",
      "metadata": {
        "id": "zLSgBD0Wl8C9",
        "colab_type": "code",
        "colab": {}
      },
      "source": [
        "#Remove false starts, rides that don't leave the station\n",
        "#ride duration less than 90 seconds AND start station id is the same as end station id\n",
        "\n",
        "indexFalsestart = df [(df['tripduration'] < 90) & (df['start station id'] == df['end station id'])].index\n",
        "df.drop(indexFalsestart , inplace=True)"
      ],
      "execution_count": 0,
      "outputs": []
    },
    {
      "cell_type": "code",
      "metadata": {
        "id": "s7HLW7GN49XI",
        "colab_type": "code",
        "outputId": "34356f84-603f-48e0-da0f-a8cff70be21c",
        "colab": {
          "base_uri": "https://localhost:8080/",
          "height": 215
        }
      },
      "source": [
        "#Remove rides that go on for longer than a reasonable trip\n",
        "#12 hours = 43,200 seconds\n",
        "#5 hours = 18,000 seconds\n",
        "unreasonable_duration = df [(df['tripduration'] > 18000)].index\n",
        "df.drop(unreasonable_duration , inplace=True)\n",
        "\n",
        "df['tripduration'].describe()"
      ],
      "execution_count": 0,
      "outputs": [
        {
          "output_type": "error",
          "ename": "NameError",
          "evalue": "ignored",
          "traceback": [
            "\u001b[0;31m---------------------------------------------------------------------------\u001b[0m",
            "\u001b[0;31mNameError\u001b[0m                                 Traceback (most recent call last)",
            "\u001b[0;32m<ipython-input-1-baca9e779b46>\u001b[0m in \u001b[0;36m<module>\u001b[0;34m()\u001b[0m\n\u001b[0;32m----> 1\u001b[0;31m \u001b[0munreasonable_duration\u001b[0m \u001b[0;34m=\u001b[0m \u001b[0mdf\u001b[0m \u001b[0;34m[\u001b[0m\u001b[0;34m(\u001b[0m\u001b[0mdf\u001b[0m\u001b[0;34m[\u001b[0m\u001b[0;34m'tripduration'\u001b[0m\u001b[0;34m]\u001b[0m \u001b[0;34m>\u001b[0m \u001b[0;36m18000\u001b[0m\u001b[0;34m)\u001b[0m\u001b[0;34m]\u001b[0m\u001b[0;34m.\u001b[0m\u001b[0mindex\u001b[0m\u001b[0;34m\u001b[0m\u001b[0;34m\u001b[0m\u001b[0m\n\u001b[0m\u001b[1;32m      2\u001b[0m \u001b[0mdf\u001b[0m\u001b[0;34m.\u001b[0m\u001b[0mdrop\u001b[0m\u001b[0;34m(\u001b[0m\u001b[0munreasonable_duration\u001b[0m \u001b[0;34m,\u001b[0m \u001b[0minplace\u001b[0m\u001b[0;34m=\u001b[0m\u001b[0;32mTrue\u001b[0m\u001b[0;34m)\u001b[0m\u001b[0;34m\u001b[0m\u001b[0;34m\u001b[0m\u001b[0m\n\u001b[1;32m      3\u001b[0m \u001b[0;34m\u001b[0m\u001b[0m\n\u001b[1;32m      4\u001b[0m \u001b[0mdf\u001b[0m\u001b[0;34m[\u001b[0m\u001b[0;34m'tripduration'\u001b[0m\u001b[0;34m]\u001b[0m\u001b[0;34m.\u001b[0m\u001b[0mdescribe\u001b[0m\u001b[0;34m(\u001b[0m\u001b[0;34m)\u001b[0m\u001b[0;34m\u001b[0m\u001b[0;34m\u001b[0m\u001b[0m\n",
            "\u001b[0;31mNameError\u001b[0m: name 'df' is not defined"
          ]
        }
      ]
    },
    {
      "cell_type": "markdown",
      "metadata": {
        "id": "MInXpCzbbYEC",
        "colab_type": "text"
      },
      "source": [
        "Majority of users have trip durations under 830 seconds / 13.83 minutes"
      ]
    },
    {
      "cell_type": "markdown",
      "metadata": {
        "id": "MBDa5QBer370",
        "colab_type": "text"
      },
      "source": [
        "##Step 2b: Flag roundtrips"
      ]
    },
    {
      "cell_type": "code",
      "metadata": {
        "id": "N4fO2fgEryjP",
        "colab_type": "code",
        "outputId": "ae7ec6f2-10ce-461e-be54-f09789f48f53",
        "colab": {
          "base_uri": "https://localhost:8080/",
          "height": 142
        }
      },
      "source": [
        "#Adding column to flag rountrips (True)\n",
        "df['roundtrip'] = df['start station id'] == df['end station id']\n",
        "\n",
        "df.groupby('roundtrip')['tripduration'].agg(['count', 'mean', 'min', 'max'])"
      ],
      "execution_count": 0,
      "outputs": [
        {
          "output_type": "execute_result",
          "data": {
            "text/html": [
              "<div>\n",
              "<style scoped>\n",
              "    .dataframe tbody tr th:only-of-type {\n",
              "        vertical-align: middle;\n",
              "    }\n",
              "\n",
              "    .dataframe tbody tr th {\n",
              "        vertical-align: top;\n",
              "    }\n",
              "\n",
              "    .dataframe thead th {\n",
              "        text-align: right;\n",
              "    }\n",
              "</style>\n",
              "<table border=\"1\" class=\"dataframe\">\n",
              "  <thead>\n",
              "    <tr style=\"text-align: right;\">\n",
              "      <th></th>\n",
              "      <th>count</th>\n",
              "      <th>mean</th>\n",
              "      <th>min</th>\n",
              "      <th>max</th>\n",
              "    </tr>\n",
              "    <tr>\n",
              "      <th>roundtrip</th>\n",
              "      <th></th>\n",
              "      <th></th>\n",
              "      <th></th>\n",
              "      <th></th>\n",
              "    </tr>\n",
              "  </thead>\n",
              "  <tbody>\n",
              "    <tr>\n",
              "      <th>False</th>\n",
              "      <td>257234</td>\n",
              "      <td>662.016938</td>\n",
              "      <td>61</td>\n",
              "      <td>42561</td>\n",
              "    </tr>\n",
              "    <tr>\n",
              "      <th>True</th>\n",
              "      <td>3240</td>\n",
              "      <td>1219.577160</td>\n",
              "      <td>90</td>\n",
              "      <td>29368</td>\n",
              "    </tr>\n",
              "  </tbody>\n",
              "</table>\n",
              "</div>"
            ],
            "text/plain": [
              "            count         mean  min    max\n",
              "roundtrip                                 \n",
              "False      257234   662.016938   61  42561\n",
              "True         3240  1219.577160   90  29368"
            ]
          },
          "metadata": {
            "tags": []
          },
          "execution_count": 25
        }
      ]
    },
    {
      "cell_type": "markdown",
      "metadata": {
        "id": "xd654QuNNHWV",
        "colab_type": "text"
      },
      "source": [
        "Most rides are one way. Roundrip rides are, on average, longer than one way rides"
      ]
    },
    {
      "cell_type": "markdown",
      "metadata": {
        "id": "vhH6VFjao7rr",
        "colab_type": "text"
      },
      "source": [
        "##Step 2c: Flag commuters\n",
        "User Type (Customer = 24-hour pass or 3-day pass user; Subscriber = Annual Member)\n",
        "\n",
        "For this analysis, we'll assume annual members are using this subscription as part of their commutes."
      ]
    },
    {
      "cell_type": "code",
      "metadata": {
        "id": "Fe2318_4pIiA",
        "colab_type": "code",
        "outputId": "0be6a703-6e62-41a6-b498-02140f1d7505",
        "colab": {
          "base_uri": "https://localhost:8080/",
          "height": 51
        }
      },
      "source": [
        "#sanity check\n",
        "print(f\"Types of Citibike users: {df['usertype'].unique()}\")\n",
        "\n",
        "commuters_df = df[ (df['usertype'] == 'Subscriber')]\n",
        "\n",
        "subscriber = commuters_df.shape\n",
        "all = df.shape\n",
        "\n",
        "s = list(subscriber)\n",
        "a = list(all)\n",
        "\n",
        "\n",
        "perc_subscriber = round((s[0]/a[0])*100)\n",
        "print(f\"Percentage of 2018 rides ridden by subscribers:  {perc_subscriber}%\")"
      ],
      "execution_count": 0,
      "outputs": [
        {
          "output_type": "stream",
          "text": [
            "Types of Citibike users: ['Subscriber' 'Customer']\n",
            "Percentage of 2018 rides ridden by subscribers:  97%\n"
          ],
          "name": "stdout"
        }
      ]
    },
    {
      "cell_type": "code",
      "metadata": {
        "id": "MA85graO5iN_",
        "colab_type": "code",
        "colab": {}
      },
      "source": [
        "#visual of subscribers vs commuters\n",
        "users = commuters_df['usertype'].value_counts()\n",
        "users.plot.pie(y=users)"
      ],
      "execution_count": 0,
      "outputs": []
    },
    {
      "cell_type": "markdown",
      "metadata": {
        "id": "Zq8ZyMnSbKgV",
        "colab_type": "text"
      },
      "source": [
        "###Thoughts for additional analysis"
      ]
    },
    {
      "cell_type": "code",
      "metadata": {
        "id": "DUK0cJKQbJBO",
        "colab_type": "code",
        "colab": {}
      },
      "source": [
        "#isolate weekday\n",
        "#Monday =0, Tuesday=1, Wednesday=2,Thursday =3,  Friday=4 ,  Saturday =5, Sunday =6\n",
        "df['sdate_dayofweek_number'] = df['starttime'].dt.dayofweek"
      ],
      "execution_count": 0,
      "outputs": []
    },
    {
      "cell_type": "code",
      "metadata": {
        "id": "4l-wVHdsaqT1",
        "colab_type": "code",
        "colab": {}
      },
      "source": [
        "#filter for rides by subscribers on weekdays, inplace"
      ],
      "execution_count": 0,
      "outputs": []
    },
    {
      "cell_type": "markdown",
      "metadata": {
        "id": "L7fDgY6puq6j",
        "colab_type": "text"
      },
      "source": [
        "##Step 2d: Flag \"valet\" stations\n",
        "Citi Bike offers Valet Service for expanded bike and dock availability at high volume stations during peak usage times."
      ]
    },
    {
      "cell_type": "code",
      "metadata": {
        "id": "Qe5tQMjT3jO3",
        "colab_type": "code",
        "outputId": "b867b556-cf63-4866-ec9d-6da21ebd720c",
        "colab": {
          "base_uri": "https://localhost:8080/",
          "height": 34
        }
      },
      "source": [
        "valet = ['Grand Army Plaza & Central Park S','8 Ave & W 31 St','12 Ave & W 40 St','W 42 St & Dyer Ave','E 47 St & Park Ave','E 55 St & 3 Ave ','W 52 St & 5 Ave','W 52 St & 6 Ave','W 48th St & 5th Ave','8 Ave & West 33 St ','W 44 St & 5 Ave ','W 43 St & 5 Ave ','W 43 St & 6 Ave ','Broadway & E 22 St','E 20 St & FDR Drive','University Pl & E 14 St','W 18th St & 6 Ave','1st Ave & 16 Street','E 10 St & Avenue A','E 2 St & Avenue B','St Marks Pl & Ave 1','Allen St & Stanton St','Canal St & Rutgers St','E 7th St & Avenue A','West St & Chambers St','6 Ave & Canal St','Broadway & Battery Place','North Moore St & Greenwich St','Old Slip & Front St','Christopher St & Greenwich St','Greenwich St & W Houston St','Murray St & Greenwich St','W Broadway & Spring Street','W 95th & Broadway','1st Ave & E 68th St','11 Ave & W 27th St','N 8 St & Berry St','S 5 Pl & S 5 St','Jay St & York St','3rd Ave & Schermerhorn St']\n",
        "print(f\"Number of valet stations: {len(valet)}\")\n",
        "\n",
        "df['sstation_valet'] = df['start station name'].isin(valet)\n",
        "df['estation_valet'] = df['end station name'].isin(valet)"
      ],
      "execution_count": 0,
      "outputs": [
        {
          "output_type": "stream",
          "text": [
            "Number of valet stations: 40\n"
          ],
          "name": "stdout"
        }
      ]
    },
    {
      "cell_type": "code",
      "metadata": {
        "id": "NWuQTjNk5wA3",
        "colab_type": "code",
        "outputId": "b4e891b2-bc1c-4525-9828-f195f539255d",
        "colab": {
          "base_uri": "https://localhost:8080/",
          "height": 360
        }
      },
      "source": [
        "#result of data exploration and scrub\n",
        "df.head(5)"
      ],
      "execution_count": 0,
      "outputs": [
        {
          "output_type": "execute_result",
          "data": {
            "text/html": [
              "<div>\n",
              "<style scoped>\n",
              "    .dataframe tbody tr th:only-of-type {\n",
              "        vertical-align: middle;\n",
              "    }\n",
              "\n",
              "    .dataframe tbody tr th {\n",
              "        vertical-align: top;\n",
              "    }\n",
              "\n",
              "    .dataframe thead th {\n",
              "        text-align: right;\n",
              "    }\n",
              "</style>\n",
              "<table border=\"1\" class=\"dataframe\">\n",
              "  <thead>\n",
              "    <tr style=\"text-align: right;\">\n",
              "      <th></th>\n",
              "      <th>tripduration</th>\n",
              "      <th>starttime</th>\n",
              "      <th>stoptime</th>\n",
              "      <th>start station id</th>\n",
              "      <th>start station name</th>\n",
              "      <th>start station latitude</th>\n",
              "      <th>start station longitude</th>\n",
              "      <th>end station id</th>\n",
              "      <th>end station name</th>\n",
              "      <th>end station latitude</th>\n",
              "      <th>end station longitude</th>\n",
              "      <th>bikeid</th>\n",
              "      <th>usertype</th>\n",
              "      <th>birth year</th>\n",
              "      <th>gender</th>\n",
              "      <th>roundtrip</th>\n",
              "      <th>sstation_valet</th>\n",
              "      <th>estation_valet</th>\n",
              "    </tr>\n",
              "  </thead>\n",
              "  <tbody>\n",
              "    <tr>\n",
              "      <th>0</th>\n",
              "      <td>970</td>\n",
              "      <td>2018-01-01 13:50:57.4340</td>\n",
              "      <td>2018-01-01 14:07:08.1860</td>\n",
              "      <td>72</td>\n",
              "      <td>W 52 St &amp; 11 Ave</td>\n",
              "      <td>40.767272</td>\n",
              "      <td>-73.993929</td>\n",
              "      <td>505.0</td>\n",
              "      <td>6 Ave &amp; W 33 St</td>\n",
              "      <td>40.749013</td>\n",
              "      <td>-73.988484</td>\n",
              "      <td>31956.0</td>\n",
              "      <td>Subscriber</td>\n",
              "      <td>1992.0</td>\n",
              "      <td>1.0</td>\n",
              "      <td>False</td>\n",
              "      <td>False</td>\n",
              "      <td>False</td>\n",
              "    </tr>\n",
              "    <tr>\n",
              "      <th>1</th>\n",
              "      <td>723</td>\n",
              "      <td>2018-01-01 15:33:30.1820</td>\n",
              "      <td>2018-01-01 15:45:33.3410</td>\n",
              "      <td>72</td>\n",
              "      <td>W 52 St &amp; 11 Ave</td>\n",
              "      <td>40.767272</td>\n",
              "      <td>-73.993929</td>\n",
              "      <td>3255.0</td>\n",
              "      <td>8 Ave &amp; W 31 St</td>\n",
              "      <td>40.750585</td>\n",
              "      <td>-73.994685</td>\n",
              "      <td>32536.0</td>\n",
              "      <td>Subscriber</td>\n",
              "      <td>1969.0</td>\n",
              "      <td>1.0</td>\n",
              "      <td>False</td>\n",
              "      <td>False</td>\n",
              "      <td>True</td>\n",
              "    </tr>\n",
              "    <tr>\n",
              "      <th>2</th>\n",
              "      <td>496</td>\n",
              "      <td>2018-01-01 15:39:18.3370</td>\n",
              "      <td>2018-01-01 15:47:35.1720</td>\n",
              "      <td>72</td>\n",
              "      <td>W 52 St &amp; 11 Ave</td>\n",
              "      <td>40.767272</td>\n",
              "      <td>-73.993929</td>\n",
              "      <td>525.0</td>\n",
              "      <td>W 34 St &amp; 11 Ave</td>\n",
              "      <td>40.755942</td>\n",
              "      <td>-74.002116</td>\n",
              "      <td>16069.0</td>\n",
              "      <td>Subscriber</td>\n",
              "      <td>1956.0</td>\n",
              "      <td>1.0</td>\n",
              "      <td>False</td>\n",
              "      <td>False</td>\n",
              "      <td>False</td>\n",
              "    </tr>\n",
              "    <tr>\n",
              "      <th>3</th>\n",
              "      <td>306</td>\n",
              "      <td>2018-01-01 15:40:13.3720</td>\n",
              "      <td>2018-01-01 15:45:20.1910</td>\n",
              "      <td>72</td>\n",
              "      <td>W 52 St &amp; 11 Ave</td>\n",
              "      <td>40.767272</td>\n",
              "      <td>-73.993929</td>\n",
              "      <td>447.0</td>\n",
              "      <td>8 Ave &amp; W 52 St</td>\n",
              "      <td>40.763707</td>\n",
              "      <td>-73.985162</td>\n",
              "      <td>31781.0</td>\n",
              "      <td>Subscriber</td>\n",
              "      <td>1974.0</td>\n",
              "      <td>1.0</td>\n",
              "      <td>False</td>\n",
              "      <td>False</td>\n",
              "      <td>False</td>\n",
              "    </tr>\n",
              "    <tr>\n",
              "      <th>4</th>\n",
              "      <td>306</td>\n",
              "      <td>2018-01-01 18:14:51.5680</td>\n",
              "      <td>2018-01-01 18:19:57.6420</td>\n",
              "      <td>72</td>\n",
              "      <td>W 52 St &amp; 11 Ave</td>\n",
              "      <td>40.767272</td>\n",
              "      <td>-73.993929</td>\n",
              "      <td>3356.0</td>\n",
              "      <td>Amsterdam Ave &amp; W 66 St</td>\n",
              "      <td>40.774667</td>\n",
              "      <td>-73.984706</td>\n",
              "      <td>30319.0</td>\n",
              "      <td>Subscriber</td>\n",
              "      <td>1992.0</td>\n",
              "      <td>1.0</td>\n",
              "      <td>False</td>\n",
              "      <td>False</td>\n",
              "      <td>False</td>\n",
              "    </tr>\n",
              "  </tbody>\n",
              "</table>\n",
              "</div>"
            ],
            "text/plain": [
              "   tripduration                 starttime  ... sstation_valet  estation_valet\n",
              "0           970  2018-01-01 13:50:57.4340  ...          False           False\n",
              "1           723  2018-01-01 15:33:30.1820  ...          False            True\n",
              "2           496  2018-01-01 15:39:18.3370  ...          False           False\n",
              "3           306  2018-01-01 15:40:13.3720  ...          False           False\n",
              "4           306  2018-01-01 18:14:51.5680  ...          False           False\n",
              "\n",
              "[5 rows x 18 columns]"
            ]
          },
          "metadata": {
            "tags": []
          },
          "execution_count": 29
        }
      ]
    },
    {
      "cell_type": "markdown",
      "metadata": {
        "id": "JSW8HKgauY25",
        "colab_type": "text"
      },
      "source": [
        "#Step 3: Analyze rides"
      ]
    },
    {
      "cell_type": "code",
      "metadata": {
        "id": "cQJL7Y2qiOAS",
        "colab_type": "code",
        "outputId": "1e9a36c0-c792-4593-a2fe-2ce07cbadd3a",
        "colab": {
          "base_uri": "https://localhost:8080/",
          "height": 51
        }
      },
      "source": [
        "#Exploration summary\n",
        "print(f\"Number of unique start stations: {df['start station id'].nunique()}\")\n",
        "print(f\"Number of unique end stations: {df['end station id'].nunique()}\")"
      ],
      "execution_count": 0,
      "outputs": [
        {
          "output_type": "stream",
          "text": [
            "Number of unique start stations: 196\n",
            "Number of unique end stations: 722\n"
          ],
          "name": "stdout"
        }
      ]
    },
    {
      "cell_type": "markdown",
      "metadata": {
        "id": "wLpY6QfZBQZP",
        "colab_type": "text"
      },
      "source": [
        "##Interesting there are more end stations that start stations!"
      ]
    },
    {
      "cell_type": "code",
      "metadata": {
        "id": "ZXCs2TBJJbUz",
        "colab_type": "code",
        "outputId": "bcb31fe0-30ff-464b-aebf-d69feec05da0",
        "colab": {
          "base_uri": "https://localhost:8080/",
          "height": 136
        }
      },
      "source": [
        "df.columns"
      ],
      "execution_count": 0,
      "outputs": [
        {
          "output_type": "execute_result",
          "data": {
            "text/plain": [
              "Index(['tripduration', 'starttime', 'stoptime', 'start station id',\n",
              "       'start station name', 'start station latitude',\n",
              "       'start station longitude', 'end station id', 'end station name',\n",
              "       'end station latitude', 'end station longitude', 'bikeid', 'usertype',\n",
              "       'birth year', 'gender', 'roundtrip', 'sstation_valet',\n",
              "       'estation_valet'],\n",
              "      dtype='object')"
            ]
          },
          "metadata": {
            "tags": []
          },
          "execution_count": 58
        }
      ]
    },
    {
      "cell_type": "code",
      "metadata": {
        "id": "uAhbXI0tL_ZK",
        "colab_type": "code",
        "outputId": "1e0ff6b8-fbd5-4fc1-c893-084a2b142130",
        "colab": {
          "base_uri": "https://localhost:8080/",
          "height": 34
        }
      },
      "source": [
        "#how many rides start from valet stations?\n",
        "valetstart = df[df['sstation_valet']]\n",
        "count_valetstart = valetstart.tripduration.count()\n",
        "print(f'Number of rides starting at a valet station: {count_valetstart}')\n"
      ],
      "execution_count": 0,
      "outputs": [
        {
          "output_type": "stream",
          "text": [
            "Number of rides starting at a valet station: 31863\n"
          ],
          "name": "stdout"
        }
      ]
    },
    {
      "cell_type": "code",
      "metadata": {
        "id": "xZhKxvoiP8B1",
        "colab_type": "code",
        "outputId": "ca87d010-db98-452b-f66d-979c4aa754ac",
        "colab": {
          "base_uri": "https://localhost:8080/",
          "height": 68
        }
      },
      "source": [
        "valetstart_oneway = df[ df['sstation_valet'] & (df['roundtrip'] == False)]\n",
        "per_oneway = (valetstart_oneway.tripduration.count()/count_valetstart)*100\n",
        "print(\"Percent of valet starts that are one way rides: \",round(per_oneway), \"%\")\n",
        "valetstart_roundtrip = df[ df['sstation_valet'] & df['roundtrip']]\n",
        "per_roundtrip = (valetstart_roundtrip.tripduration.count()/count_valetstart)*100\n",
        "print('Percent of valet starts that are roundtrip rides: ',round(per_roundtrip), '%')\n",
        "valetstart_valetstop = df[ df['sstation_valet'] & df['estation_valet']]\n",
        "per_valettovalet = (valetstart_valetstop.tripduration.count()/count_valetstart)*100\n",
        "print('Percent of valet starts that end at another valet station: ', round(per_valettovalet), '%')"
      ],
      "execution_count": 0,
      "outputs": [
        {
          "output_type": "stream",
          "text": [
            "Percent of valet starts that are one way rides:  99.0 %\n",
            "Percent of valet starts that are roundtrip rides:  1.0 %\n",
            "Percent of valet starts that end at another valet station:  11.0 %\n"
          ],
          "name": "stdout"
        }
      ]
    },
    {
      "cell_type": "markdown",
      "metadata": {
        "id": "j0dgNUo7S4If",
        "colab_type": "text"
      },
      "source": [
        "##Let's focus on the majority of the rides people embark on from valet stations: one way rides "
      ]
    },
    {
      "cell_type": "code",
      "metadata": {
        "id": "AJ50-FzsQov_",
        "colab_type": "code",
        "outputId": "e43fd51e-069e-4cf4-8c3f-440f4bb4a712",
        "colab": {
          "base_uri": "https://localhost:8080/",
          "height": 312
        }
      },
      "source": [
        "#are a lot of the valet start - one way rides similar lengths of time?\n",
        "#yes\n",
        "valetstart_oneway.hist(column='tripduration', bins=8)\n",
        "plt.ylabel('Frequency')\n",
        "plt.xlabel('Trip Duration in Seconds')\n",
        "plt.title('Valet Start - One way')"
      ],
      "execution_count": 0,
      "outputs": [
        {
          "output_type": "execute_result",
          "data": {
            "text/plain": [
              "Text(0.5, 1.0, 'Valet Start - One way')"
            ]
          },
          "metadata": {
            "tags": []
          },
          "execution_count": 75
        },
        {
          "output_type": "display_data",
          "data": {
            "image/png": "[encoded data removed]",
            "text/plain": [
              "<Figure size 432x288 with 1 Axes>"
            ]
          },
          "metadata": {
            "tags": []
          }
        }
      ]
    },
    {
      "cell_type": "code",
      "metadata": {
        "id": "xomj-O9tTWIl",
        "colab_type": "code",
        "colab": {}
      },
      "source": [
        "#are a lot of the valet start - roundtrip rides similar lengths of time?\n",
        "#yes with outliers\n",
        "valetstart_roundtrip.hist(column='tripduration', bins=10)\n",
        "plt.ylabel('Frequency')\n",
        "plt.xlabel('Trip Duration in Seconds')\n",
        "plt.title('Valet Start - Roundtrip')"
      ],
      "execution_count": 0,
      "outputs": []
    },
    {
      "cell_type": "code",
      "metadata": {
        "id": "PqhSjX7KTY6-",
        "colab_type": "code",
        "colab": {}
      },
      "source": [
        "#are a lot of the valet start - one way rides - valet end similar lengths of time?\n",
        "#majority, yes\n",
        "valetstart_valetstop.hist(column='tripduration', bins=6)\n",
        "plt.ylabel('Frequency')\n",
        "plt.xlabel('Trip Duration in Seconds')\n",
        "plt.title('Valet Start - One way - Valet End')"
      ],
      "execution_count": 0,
      "outputs": []
    },
    {
      "cell_type": "markdown",
      "metadata": {
        "id": "ZyvKxRAaqs5f",
        "colab_type": "text"
      },
      "source": [
        "Makes sense: commutes would be one way rides relatively shorter durations compared to roundtrip rides.\n",
        "##Where are they going?"
      ]
    },
    {
      "cell_type": "code",
      "metadata": {
        "id": "GGZ8CFUTG20U",
        "colab_type": "code",
        "outputId": "52da5358-0581-4e20-b3d3-c20004f0c5de",
        "colab": {
          "base_uri": "https://localhost:8080/",
          "height": 476
        }
      },
      "source": [
        "#what are the most popular valet start - one way trips?\n",
        "trips = valetstart_oneway.groupby('start station name')['end station name'].value_counts().sort_values(ascending=False)\n",
        "trips.head(25)"
      ],
      "execution_count": 0,
      "outputs": [
        {
          "output_type": "execute_result",
          "data": {
            "text/plain": [
              "start station name             end station name             \n",
              "E 47 St & Park Ave             W 41 St & 8 Ave                  168\n",
              "Canal St & Rutgers St          Henry St & Grand St              166\n",
              "Broadway & E 22 St             Pershing Square North            165\n",
              "                               E 23 St & 1 Ave                  164\n",
              "Christopher St & Greenwich St  Greenwich Ave & 8 Ave            139\n",
              "E 47 St & Park Ave             W 49 St & 8 Ave                  137\n",
              "E 10 St & Avenue A             Lafayette St & E 8 St            124\n",
              "Broadway & E 22 St             E 20 St & FDR Drive              114\n",
              "E 10 St & Avenue A             Broadway & E 14 St               111\n",
              "West St & Chambers St          Centre St & Chambers St          110\n",
              "Broadway & E 22 St             E 17 St & Broadway               109\n",
              "Greenwich St & W Houston St    8 Ave & W 31 St                  109\n",
              "West St & Chambers St          Pier 40 - Hudson River Park      107\n",
              "Greenwich St & W Houston St    Christopher St & Greenwich St    104\n",
              "Christopher St & Greenwich St  Washington St & Gansevoort St    104\n",
              "University Pl & E 14 St        Greenwich Ave & 8 Ave            102\n",
              "Canal St & Rutgers St          Division St & Bowery              99\n",
              "Broadway & E 22 St             E 20 St & 2 Ave                   97\n",
              "E 47 St & Park Ave             1 Ave & E 68 St                   97\n",
              "Canal St & Rutgers St          Madison St & Montgomery St        89\n",
              "E 47 St & Park Ave             Broadway & W 32 St                87\n",
              "Christopher St & Greenwich St  Watts St & Greenwich St           86\n",
              "E 2 St & Avenue B              Great Jones St                    85\n",
              "West St & Chambers St          West Thames St                    83\n",
              "University Pl & E 14 St        W 13 St & 7 Ave                   82\n",
              "Name: end station name, dtype: int64"
            ]
          },
          "metadata": {
            "tags": []
          },
          "execution_count": 93
        }
      ]
    },
    {
      "cell_type": "code",
      "metadata": {
        "id": "xHVKg3H_Lbo-",
        "colab_type": "code",
        "outputId": "91251b12-c359-48f9-e8c8-ad16c0caf8f6",
        "colab": {
          "base_uri": "https://localhost:8080/",
          "height": 286
        }
      },
      "source": [
        "trips.sort_values(ascending=True).plot(kind='barh')"
      ],
      "execution_count": 0,
      "outputs": [
        {
          "output_type": "execute_result",
          "data": {
            "text/plain": [
              "<matplotlib.axes._subplots.AxesSubplot at 0x7f207f54deb8>"
            ]
          },
          "metadata": {
            "tags": []
          },
          "execution_count": 94
        },
        {
          "output_type": "display_data",
          "data": {
            "image/png": "[encoded data removed]",
            "text/plain": [
              "<Figure size 432x288 with 1 Axes>"
            ]
          },
          "metadata": {
            "tags": []
          }
        }
      ]
    },
    {
      "cell_type": "code",
      "metadata": {
        "id": "PL-WQQpLZczc",
        "colab_type": "code",
        "colab": {}
      },
      "source": [
        "#can this be on a map?"
      ],
      "execution_count": 0,
      "outputs": []
    },
    {
      "cell_type": "code",
      "metadata": {
        "id": "5xD3XLzXVxA4",
        "colab_type": "code",
        "colab": {}
      },
      "source": [
        "#write a function that for a user defined 'start station name', 'subscription'\n",
        "#print out the top destinations"
      ],
      "execution_count": 0,
      "outputs": []
    }
  ]
}