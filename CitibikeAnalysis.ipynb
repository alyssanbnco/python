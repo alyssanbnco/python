{
  "nbformat": 4,
  "nbformat_minor": 0,
  "metadata": {
    "colab": {
      "name": "CitibikeAnalysis.ipynb",
      "version": "0.3.2",
      "provenance": [],
      "collapsed_sections": [],
      "toc_visible": true
    },
    "kernelspec": {
      "name": "python3",
      "display_name": "Python 3"
    }
  },
  "cells": [
    {
      "cell_type": "markdown",
      "metadata": {
        "id": "6s4Q6mi5Zd1X",
        "colab_type": "text"
      },
      "source": [
        "#Citibike Analysis\n",
        "##Problem statement\n",
        "Citibike publishes trip data for bikes in NYC. The data is available to the public \"for analysis, development, visualization and whatever else moves you.\"\n",
        "\n",
        "##Dataset\n",
        "Citibike publishes downloadable files of Citi Bike trip data. The data includes:\n",
        "\n",
        "\n",
        "* Trip Duration (seconds)\n",
        "* Start Time and Date\n",
        "* Stop Time and Date\n",
        "* Start Station Name\n",
        "* End Station Name\n",
        "* Station ID\n",
        "* Station Lat/Long\n",
        "* Bike ID\n",
        "* User Type (Customer = 24-hour pass or 3-day pass user; Subscriber = Annual Member)\n",
        "* Gender (Zero=unknown; 1=male; 2=female)\n",
        "* Year of Birth\n",
        "\n",
        "\n",
        "This data has been processed to remove trips that are taken by staff as they service and inspect the system. More information can be found on the [Citibike website](https://www.citibikenyc.com/system-data).\n",
        "\n",
        "##Hypothesis\n",
        "###The stations most frequented by subscribers correspond to weekday commutes\n",
        "I suspect subscribers are intending to use Citibikes as part of a routine. Focusing on commutes, I'll look to answer:\n",
        "1. Which stations are the most frequented by subscribers? \n",
        "2. Which stations are the most popular destinations?\n",
        "3. Are the top most trafficked stations the same on weekdays as on weekends?\n",
        "\n",
        "##Conclusions\n",
        "###Additional analysis would include comparing trips taken on weekdays and weekends.\n",
        "1. Stations most frequented by subscribers in 2018: West St & Chambers St \n",
        "2. 2018 subscriber's most traveled trip: West St & Chambers St   to   Pier 40 - Hudson River Park\n",
        "\n",
        "##End product\n",
        "###Input: user provided start station name, output: suggest end station names that have been historically popular\n",
        "\n"
      ]
    },
    {
      "cell_type": "markdown",
      "metadata": {
        "id": "OevApqoOjyCZ",
        "colab_type": "text"
      },
      "source": [
        "#Step 1: Combining datasets"
      ]
    },
    {
      "cell_type": "code",
      "metadata": {
        "id": "y5i6EoyBjxn4",
        "colab_type": "code",
        "colab": {}
      },
      "source": [
        "import glob\n",
        "import pandas as pd\n",
        "import numpy as np\n",
        "import matplotlib.pyplot as plt\n",
        "\n",
        "#Data for 2018 is published by month, resulting in 12 separate .csv files\n",
        "files = glob.glob('2018*.csv')\n",
        "print(files)\n",
        "\n",
        "#Using glob to read the 3 files that represent 2018-Q2 in one line\n",
        "df = pd.concat([pd.read_csv(f, engine='python', error_bad_lines = False) for f in glob.iglob('2018*.csv')], ignore_index = True)\n"
      ],
      "execution_count": 0,
      "outputs": []
    },
    {
      "cell_type": "code",
      "metadata": {
        "id": "d4FMQi6znVTH",
        "colab_type": "code",
        "colab": {
          "base_uri": "https://localhost:8080/",
          "height": 34
        },
        "outputId": "c1a2ecbd-207a-42e6-d9b8-78334e2e9c48"
      },
      "source": [
        "import glob\n",
        "import pandas as pd\n",
        "import numpy as np\n",
        "import matplotlib.pyplot as plt\n",
        "df = pd.read_csv('201806-citibike-tripdata.csv', engine = 'python', error_bad_lines = False)\n"
      ],
      "execution_count": 3,
      "outputs": [
        {
          "output_type": "stream",
          "text": [
            "Skipping line 1288177: unexpected end of data\n"
          ],
          "name": "stderr"
        }
      ]
    },
    {
      "cell_type": "markdown",
      "metadata": {
        "id": "eHhquZivm9f1",
        "colab_type": "text"
      },
      "source": [
        "#Step 2: Explore and scrub data"
      ]
    },
    {
      "cell_type": "code",
      "metadata": {
        "id": "VRo5K4-9PtCU",
        "colab_type": "code",
        "outputId": "14d47d00-f868-4c08-ec37-3a7988fc33b9",
        "colab": {
          "base_uri": "https://localhost:8080/",
          "height": 357
        }
      },
      "source": [
        "#Shape of dataframe\n",
        "print('Rows, Columns', df.shape, '\\n')\n",
        "\n",
        "#Columns in dataframe\n",
        "print(df.dtypes, '\\n')\n",
        "\n",
        "#clear whitespace from column names\n",
        "df.rename(columns=lambda x: x.strip(), inplace=True)\n",
        "\n",
        "#Sanity check that data from all files has been read (Jan 2018 - Dec 2018)\n",
        "min_date = min(df['starttime'])\n",
        "max_date = max(df['starttime'])\n",
        "print('Date range: ', min_date, ' - ', max_date)"
      ],
      "execution_count": 4,
      "outputs": [
        {
          "output_type": "stream",
          "text": [
            "Rows, Columns (1288175, 15) \n",
            "\n",
            "tripduration                 int64\n",
            "starttime                   object\n",
            "stoptime                    object\n",
            "start station id             int64\n",
            "start station name          object\n",
            "start station latitude     float64\n",
            "start station longitude    float64\n",
            "end station id               int64\n",
            "end station name            object\n",
            "end station latitude       float64\n",
            "end station longitude      float64\n",
            "bikeid                       int64\n",
            "usertype                    object\n",
            "birth year                   int64\n",
            "gender                       int64\n",
            "dtype: object \n",
            "\n",
            "Date range:  2018-06-01 00:00:02.4580  -  2018-06-30 23:59:54.3620\n"
          ],
          "name": "stdout"
        }
      ]
    },
    {
      "cell_type": "code",
      "metadata": {
        "id": "n9ikA7IhkvEd",
        "colab_type": "code",
        "outputId": "70218d24-c73d-4595-8b15-f2e2740b56b7",
        "colab": {
          "base_uri": "https://localhost:8080/",
          "height": 289
        }
      },
      "source": [
        "#Drop rows with null values\n",
        "df.dropna(inplace=True)\n",
        "print(df.isnull().sum())"
      ],
      "execution_count": 5,
      "outputs": [
        {
          "output_type": "stream",
          "text": [
            "tripduration               0\n",
            "starttime                  0\n",
            "stoptime                   0\n",
            "start station id           0\n",
            "start station name         0\n",
            "start station latitude     0\n",
            "start station longitude    0\n",
            "end station id             0\n",
            "end station name           0\n",
            "end station latitude       0\n",
            "end station longitude      0\n",
            "bikeid                     0\n",
            "usertype                   0\n",
            "birth year                 0\n",
            "gender                     0\n",
            "dtype: int64\n"
          ],
          "name": "stdout"
        }
      ]
    },
    {
      "cell_type": "markdown",
      "metadata": {
        "id": "RB1nF8KArGRb",
        "colab_type": "text"
      },
      "source": [
        "##Step 2a: Remove false starts and unreasonably long trips"
      ]
    },
    {
      "cell_type": "code",
      "metadata": {
        "id": "zLSgBD0Wl8C9",
        "colab_type": "code",
        "colab": {}
      },
      "source": [
        "#Remove false starts, rides that don't leave the station\n",
        "#ride duration less than 90 seconds AND start station id is the same as end station id\n",
        "\n",
        "indexFalsestart = df [(df['tripduration'] < 90) & (df['start station id'] == df['end station id'])].index\n",
        "df.drop(indexFalsestart , inplace=True)"
      ],
      "execution_count": 0,
      "outputs": []
    },
    {
      "cell_type": "code",
      "metadata": {
        "id": "s7HLW7GN49XI",
        "colab_type": "code",
        "outputId": "bee2ec82-2675-4161-f025-e7e3aaae6bfa",
        "colab": {
          "base_uri": "https://localhost:8080/",
          "height": 170
        }
      },
      "source": [
        "#Remove rides that go on for longer than a reasonable trip\n",
        "#12 hours = 43,200 seconds\n",
        "#5 hours = 18,000 seconds\n",
        "unreasonable_duration = df [(df['tripduration'] > 43200)].index\n",
        "df.drop(unreasonable_duration , inplace=True)\n",
        "\n",
        "df['tripduration'].describe()"
      ],
      "execution_count": 8,
      "outputs": [
        {
          "output_type": "execute_result",
          "data": {
            "text/plain": [
              "count    1.285124e+06\n",
              "mean     8.689220e+02\n",
              "std      8.238346e+02\n",
              "min      6.100000e+01\n",
              "25%      3.870000e+02\n",
              "50%      6.500000e+02\n",
              "75%      1.128000e+03\n",
              "max      1.799100e+04\n",
              "Name: tripduration, dtype: float64"
            ]
          },
          "metadata": {
            "tags": []
          },
          "execution_count": 8
        }
      ]
    },
    {
      "cell_type": "markdown",
      "metadata": {
        "id": "MInXpCzbbYEC",
        "colab_type": "text"
      },
      "source": [
        "Majority of users have trip durations under 1,128 seconds / 18.8 minutes"
      ]
    },
    {
      "cell_type": "markdown",
      "metadata": {
        "id": "MBDa5QBer370",
        "colab_type": "text"
      },
      "source": [
        "##Step 2b: Flag roundtrips"
      ]
    },
    {
      "cell_type": "code",
      "metadata": {
        "id": "N4fO2fgEryjP",
        "colab_type": "code",
        "outputId": "9398ea9d-bed6-40ba-9286-30e2b7cc8b6b",
        "colab": {
          "base_uri": "https://localhost:8080/",
          "height": 142
        }
      },
      "source": [
        "#Adding column to flag rountrips (True)\n",
        "df['roundtrip'] = df['start station id'] == df['end station id']\n",
        "\n",
        "df.groupby('roundtrip')['tripduration'].agg(['count', 'mean', 'min', 'max'])"
      ],
      "execution_count": 9,
      "outputs": [
        {
          "output_type": "execute_result",
          "data": {
            "text/html": [
              "<div>\n",
              "<style scoped>\n",
              "    .dataframe tbody tr th:only-of-type {\n",
              "        vertical-align: middle;\n",
              "    }\n",
              "\n",
              "    .dataframe tbody tr th {\n",
              "        vertical-align: top;\n",
              "    }\n",
              "\n",
              "    .dataframe thead th {\n",
              "        text-align: right;\n",
              "    }\n",
              "</style>\n",
              "<table border=\"1\" class=\"dataframe\">\n",
              "  <thead>\n",
              "    <tr style=\"text-align: right;\">\n",
              "      <th></th>\n",
              "      <th>count</th>\n",
              "      <th>mean</th>\n",
              "      <th>min</th>\n",
              "      <th>max</th>\n",
              "    </tr>\n",
              "    <tr>\n",
              "      <th>roundtrip</th>\n",
              "      <th></th>\n",
              "      <th></th>\n",
              "      <th></th>\n",
              "      <th></th>\n",
              "    </tr>\n",
              "  </thead>\n",
              "  <tbody>\n",
              "    <tr>\n",
              "      <th>False</th>\n",
              "      <td>1262543</td>\n",
              "      <td>855.625394</td>\n",
              "      <td>61</td>\n",
              "      <td>17991</td>\n",
              "    </tr>\n",
              "    <tr>\n",
              "      <th>True</th>\n",
              "      <td>22581</td>\n",
              "      <td>1612.358310</td>\n",
              "      <td>90</td>\n",
              "      <td>17888</td>\n",
              "    </tr>\n",
              "  </tbody>\n",
              "</table>\n",
              "</div>"
            ],
            "text/plain": [
              "             count         mean  min    max\n",
              "roundtrip                                  \n",
              "False      1262543   855.625394   61  17991\n",
              "True         22581  1612.358310   90  17888"
            ]
          },
          "metadata": {
            "tags": []
          },
          "execution_count": 9
        }
      ]
    },
    {
      "cell_type": "markdown",
      "metadata": {
        "id": "xd654QuNNHWV",
        "colab_type": "text"
      },
      "source": [
        "Most rides are one way. Roundrip rides are, on average, longer than one way rides"
      ]
    },
    {
      "cell_type": "markdown",
      "metadata": {
        "id": "vhH6VFjao7rr",
        "colab_type": "text"
      },
      "source": [
        "##Step 2c: Flag commuters\n",
        "User Type (Customer = 24-hour pass or 3-day pass user; Subscriber = Annual Member)\n",
        "\n",
        "For this analysis, we'll assume annual members are using this subscription as part of their commutes."
      ]
    },
    {
      "cell_type": "code",
      "metadata": {
        "id": "Fe2318_4pIiA",
        "colab_type": "code",
        "outputId": "ce9e69f4-869d-42f6-c958-44dbd22bf2bd",
        "colab": {
          "base_uri": "https://localhost:8080/",
          "height": 51
        }
      },
      "source": [
        "#sanity check\n",
        "print(f\"Types of Citibike users: {df['usertype'].unique()}\")\n",
        "\n",
        "commuters_df = df[ (df['usertype'] == 'Subscriber')]\n",
        "\n",
        "subscriber = commuters_df.shape\n",
        "all = df.shape\n",
        "\n",
        "s = list(subscriber)\n",
        "a = list(all)\n",
        "\n",
        "\n",
        "perc_subscriber = round((s[0]/a[0])*100)\n",
        "print(f\"Percentage of 2018 rides ridden by subscribers:  {perc_subscriber}%\")"
      ],
      "execution_count": 10,
      "outputs": [
        {
          "output_type": "stream",
          "text": [
            "Types of Citibike users: ['Subscriber' 'Customer']\n",
            "Percentage of 2018 rides ridden by subscribers:  88%\n"
          ],
          "name": "stdout"
        }
      ]
    },
    {
      "cell_type": "code",
      "metadata": {
        "id": "MA85graO5iN_",
        "colab_type": "code",
        "colab": {
          "base_uri": "https://localhost:8080/",
          "height": 272
        },
        "outputId": "4fec2281-64ed-417f-d742-2368dcf9ad1a"
      },
      "source": [
        "#visual of subscribers vs commuters\n",
        "users = df['usertype'].value_counts()\n",
        "users.plot.pie(y=users)"
      ],
      "execution_count": 12,
      "outputs": [
        {
          "output_type": "execute_result",
          "data": {
            "text/plain": [
              "<matplotlib.axes._subplots.AxesSubplot at 0x7f37a02125c0>"
            ]
          },
          "metadata": {
            "tags": []
          },
          "execution_count": 12
        },
        {
          "output_type": "display_data",
          "data": {
            "image/png": "[encoded data removed]",
            "text/plain": [
              "<Figure size 432x288 with 1 Axes>"
            ]
          },
          "metadata": {
            "tags": []
          }
        }
      ]
    },
    {
      "cell_type": "markdown",
      "metadata": {
        "id": "Zq8ZyMnSbKgV",
        "colab_type": "text"
      },
      "source": [
        "###Thoughts for additional analysis"
      ]
    },
    {
      "cell_type": "code",
      "metadata": {
        "id": "DUK0cJKQbJBO",
        "colab_type": "code",
        "colab": {}
      },
      "source": [
        "#isolate weekday\n",
        "#Monday =0, Tuesday=1, Wednesday=2,Thursday =3,  Friday=4 ,  Saturday =5, Sunday =6\n",
        "df['sdate_dayofweek_number'] = df['starttime'].dt.dayofweek"
      ],
      "execution_count": 0,
      "outputs": []
    },
    {
      "cell_type": "code",
      "metadata": {
        "id": "4l-wVHdsaqT1",
        "colab_type": "code",
        "colab": {}
      },
      "source": [
        "#filter for rides by subscribers on weekdays, inplace"
      ],
      "execution_count": 0,
      "outputs": []
    },
    {
      "cell_type": "markdown",
      "metadata": {
        "id": "L7fDgY6puq6j",
        "colab_type": "text"
      },
      "source": [
        "##Step 2d: Flag \"valet\" stations\n",
        "Citi Bike offers Valet Service for expanded bike and dock availability at high volume stations during peak usage times."
      ]
    },
    {
      "cell_type": "code",
      "metadata": {
        "id": "Qe5tQMjT3jO3",
        "colab_type": "code",
        "outputId": "410d3b67-6825-4a04-be9e-2f4eb999427a",
        "colab": {
          "base_uri": "https://localhost:8080/",
          "height": 34
        }
      },
      "source": [
        "df = commuters_df\n",
        "valet = ['Grand Army Plaza & Central Park S','8 Ave & W 31 St','12 Ave & W 40 St','W 42 St & Dyer Ave','E 47 St & Park Ave','E 55 St & 3 Ave ','W 52 St & 5 Ave','W 52 St & 6 Ave','W 48th St & 5th Ave','8 Ave & West 33 St ','W 44 St & 5 Ave ','W 43 St & 5 Ave ','W 43 St & 6 Ave ','Broadway & E 22 St','E 20 St & FDR Drive','University Pl & E 14 St','W 18th St & 6 Ave','1st Ave & 16 Street','E 10 St & Avenue A','E 2 St & Avenue B','St Marks Pl & Ave 1','Allen St & Stanton St','Canal St & Rutgers St','E 7th St & Avenue A','West St & Chambers St','6 Ave & Canal St','Broadway & Battery Place','North Moore St & Greenwich St','Old Slip & Front St','Christopher St & Greenwich St','Greenwich St & W Houston St','Murray St & Greenwich St','W Broadway & Spring Street','W 95th & Broadway','1st Ave & E 68th St','11 Ave & W 27th St','N 8 St & Berry St','S 5 Pl & S 5 St','Jay St & York St','3rd Ave & Schermerhorn St']\n",
        "print(f\"Number of valet stations: {len(valet)}\")\n",
        "\n",
        "df['sstation_valet'] = df['start station name'].isin(valet)\n",
        "df['estation_valet'] = df['end station name'].isin(valet)"
      ],
      "execution_count": 14,
      "outputs": [
        {
          "output_type": "stream",
          "text": [
            "Number of valet stations: 40\n"
          ],
          "name": "stdout"
        }
      ]
    },
    {
      "cell_type": "code",
      "metadata": {
        "id": "NWuQTjNk5wA3",
        "colab_type": "code",
        "outputId": "73675fc7-5085-4a1d-b024-e071dd002a27",
        "colab": {
          "base_uri": "https://localhost:8080/",
          "height": 377
        }
      },
      "source": [
        "#result of data exploration and scrub\n",
        "df.head(5)"
      ],
      "execution_count": 15,
      "outputs": [
        {
          "output_type": "execute_result",
          "data": {
            "text/html": [
              "<div>\n",
              "<style scoped>\n",
              "    .dataframe tbody tr th:only-of-type {\n",
              "        vertical-align: middle;\n",
              "    }\n",
              "\n",
              "    .dataframe tbody tr th {\n",
              "        vertical-align: top;\n",
              "    }\n",
              "\n",
              "    .dataframe thead th {\n",
              "        text-align: right;\n",
              "    }\n",
              "</style>\n",
              "<table border=\"1\" class=\"dataframe\">\n",
              "  <thead>\n",
              "    <tr style=\"text-align: right;\">\n",
              "      <th></th>\n",
              "      <th>tripduration</th>\n",
              "      <th>starttime</th>\n",
              "      <th>stoptime</th>\n",
              "      <th>start station id</th>\n",
              "      <th>start station name</th>\n",
              "      <th>start station latitude</th>\n",
              "      <th>start station longitude</th>\n",
              "      <th>end station id</th>\n",
              "      <th>end station name</th>\n",
              "      <th>end station latitude</th>\n",
              "      <th>end station longitude</th>\n",
              "      <th>bikeid</th>\n",
              "      <th>usertype</th>\n",
              "      <th>birth year</th>\n",
              "      <th>gender</th>\n",
              "      <th>roundtrip</th>\n",
              "      <th>sstation_valet</th>\n",
              "      <th>estation_valet</th>\n",
              "    </tr>\n",
              "  </thead>\n",
              "  <tbody>\n",
              "    <tr>\n",
              "      <th>0</th>\n",
              "      <td>569</td>\n",
              "      <td>2018-06-01 01:57:20.5140</td>\n",
              "      <td>2018-06-01 02:06:50.0880</td>\n",
              "      <td>72</td>\n",
              "      <td>W 52 St &amp; 11 Ave</td>\n",
              "      <td>40.767272</td>\n",
              "      <td>-73.993929</td>\n",
              "      <td>173</td>\n",
              "      <td>Broadway &amp; W 49 St</td>\n",
              "      <td>40.760683</td>\n",
              "      <td>-73.984527</td>\n",
              "      <td>21481</td>\n",
              "      <td>Subscriber</td>\n",
              "      <td>1999</td>\n",
              "      <td>1</td>\n",
              "      <td>False</td>\n",
              "      <td>False</td>\n",
              "      <td>False</td>\n",
              "    </tr>\n",
              "    <tr>\n",
              "      <th>1</th>\n",
              "      <td>480</td>\n",
              "      <td>2018-06-01 02:02:42.3980</td>\n",
              "      <td>2018-06-01 02:10:43.3540</td>\n",
              "      <td>72</td>\n",
              "      <td>W 52 St &amp; 11 Ave</td>\n",
              "      <td>40.767272</td>\n",
              "      <td>-73.993929</td>\n",
              "      <td>477</td>\n",
              "      <td>W 41 St &amp; 8 Ave</td>\n",
              "      <td>40.756405</td>\n",
              "      <td>-73.990026</td>\n",
              "      <td>19123</td>\n",
              "      <td>Subscriber</td>\n",
              "      <td>1988</td>\n",
              "      <td>1</td>\n",
              "      <td>False</td>\n",
              "      <td>False</td>\n",
              "      <td>False</td>\n",
              "    </tr>\n",
              "    <tr>\n",
              "      <th>2</th>\n",
              "      <td>692</td>\n",
              "      <td>2018-06-01 02:04:23.6240</td>\n",
              "      <td>2018-06-01 02:15:55.7470</td>\n",
              "      <td>72</td>\n",
              "      <td>W 52 St &amp; 11 Ave</td>\n",
              "      <td>40.767272</td>\n",
              "      <td>-73.993929</td>\n",
              "      <td>457</td>\n",
              "      <td>Broadway &amp; W 58 St</td>\n",
              "      <td>40.766953</td>\n",
              "      <td>-73.981693</td>\n",
              "      <td>26983</td>\n",
              "      <td>Subscriber</td>\n",
              "      <td>1986</td>\n",
              "      <td>1</td>\n",
              "      <td>False</td>\n",
              "      <td>False</td>\n",
              "      <td>False</td>\n",
              "    </tr>\n",
              "    <tr>\n",
              "      <th>3</th>\n",
              "      <td>664</td>\n",
              "      <td>2018-06-01 03:00:55.4610</td>\n",
              "      <td>2018-06-01 03:11:59.9060</td>\n",
              "      <td>72</td>\n",
              "      <td>W 52 St &amp; 11 Ave</td>\n",
              "      <td>40.767272</td>\n",
              "      <td>-73.993929</td>\n",
              "      <td>379</td>\n",
              "      <td>W 31 St &amp; 7 Ave</td>\n",
              "      <td>40.749156</td>\n",
              "      <td>-73.991600</td>\n",
              "      <td>26742</td>\n",
              "      <td>Subscriber</td>\n",
              "      <td>1973</td>\n",
              "      <td>1</td>\n",
              "      <td>False</td>\n",
              "      <td>False</td>\n",
              "      <td>False</td>\n",
              "    </tr>\n",
              "    <tr>\n",
              "      <th>4</th>\n",
              "      <td>818</td>\n",
              "      <td>2018-06-01 06:04:54.4270</td>\n",
              "      <td>2018-06-01 06:18:32.6170</td>\n",
              "      <td>72</td>\n",
              "      <td>W 52 St &amp; 11 Ave</td>\n",
              "      <td>40.767272</td>\n",
              "      <td>-73.993929</td>\n",
              "      <td>459</td>\n",
              "      <td>W 20 St &amp; 11 Ave</td>\n",
              "      <td>40.746745</td>\n",
              "      <td>-74.007756</td>\n",
              "      <td>26386</td>\n",
              "      <td>Subscriber</td>\n",
              "      <td>1984</td>\n",
              "      <td>1</td>\n",
              "      <td>False</td>\n",
              "      <td>False</td>\n",
              "      <td>False</td>\n",
              "    </tr>\n",
              "  </tbody>\n",
              "</table>\n",
              "</div>"
            ],
            "text/plain": [
              "   tripduration                 starttime  ... sstation_valet  estation_valet\n",
              "0           569  2018-06-01 01:57:20.5140  ...          False           False\n",
              "1           480  2018-06-01 02:02:42.3980  ...          False           False\n",
              "2           692  2018-06-01 02:04:23.6240  ...          False           False\n",
              "3           664  2018-06-01 03:00:55.4610  ...          False           False\n",
              "4           818  2018-06-01 06:04:54.4270  ...          False           False\n",
              "\n",
              "[5 rows x 18 columns]"
            ]
          },
          "metadata": {
            "tags": []
          },
          "execution_count": 15
        }
      ]
    },
    {
      "cell_type": "markdown",
      "metadata": {
        "id": "JSW8HKgauY25",
        "colab_type": "text"
      },
      "source": [
        "#Step 3: Analyze rides"
      ]
    },
    {
      "cell_type": "code",
      "metadata": {
        "id": "cQJL7Y2qiOAS",
        "colab_type": "code",
        "outputId": "0dc52f27-84be-40c0-b957-9f1a3d71d96e",
        "colab": {
          "base_uri": "https://localhost:8080/",
          "height": 51
        }
      },
      "source": [
        "#Exploration summary\n",
        "print(f\"Number of unique start stations: {df['start station id'].nunique()}\")\n",
        "print(f\"Number of unique end stations: {df['end station id'].nunique()}\")"
      ],
      "execution_count": 16,
      "outputs": [
        {
          "output_type": "stream",
          "text": [
            "Number of unique start stations: 358\n",
            "Number of unique end stations: 769\n"
          ],
          "name": "stdout"
        }
      ]
    },
    {
      "cell_type": "markdown",
      "metadata": {
        "id": "wLpY6QfZBQZP",
        "colab_type": "text"
      },
      "source": [
        "##Interesting there are more end stations that start stations!"
      ]
    },
    {
      "cell_type": "code",
      "metadata": {
        "id": "ZXCs2TBJJbUz",
        "colab_type": "code",
        "outputId": "2008535b-68de-488a-ec30-512715328bb8",
        "colab": {
          "base_uri": "https://localhost:8080/",
          "height": 136
        }
      },
      "source": [
        "df.columns"
      ],
      "execution_count": 17,
      "outputs": [
        {
          "output_type": "execute_result",
          "data": {
            "text/plain": [
              "Index(['tripduration', 'starttime', 'stoptime', 'start station id',\n",
              "       'start station name', 'start station latitude',\n",
              "       'start station longitude', 'end station id', 'end station name',\n",
              "       'end station latitude', 'end station longitude', 'bikeid', 'usertype',\n",
              "       'birth year', 'gender', 'roundtrip', 'sstation_valet',\n",
              "       'estation_valet'],\n",
              "      dtype='object')"
            ]
          },
          "metadata": {
            "tags": []
          },
          "execution_count": 17
        }
      ]
    },
    {
      "cell_type": "code",
      "metadata": {
        "id": "uAhbXI0tL_ZK",
        "colab_type": "code",
        "outputId": "731bbbc6-d49a-43e2-9ebc-8f121141ca6d",
        "colab": {
          "base_uri": "https://localhost:8080/",
          "height": 34
        }
      },
      "source": [
        "#how many rides start from valet stations?\n",
        "valetstart = df[df['sstation_valet']]\n",
        "count_valetstart = valetstart.tripduration.count()\n",
        "print(f'Number of rides starting at a valet station: {count_valetstart}')\n"
      ],
      "execution_count": 18,
      "outputs": [
        {
          "output_type": "stream",
          "text": [
            "Number of rides starting at a valet station: 97835\n"
          ],
          "name": "stdout"
        }
      ]
    },
    {
      "cell_type": "code",
      "metadata": {
        "id": "efqzW3ATpdyx",
        "colab_type": "code",
        "colab": {
          "base_uri": "https://localhost:8080/",
          "height": 323
        },
        "outputId": "37e9826f-7824-42d0-f5e9-0df7a8aed9ce"
      },
      "source": [
        "#most popular valet start station\n",
        "valetstart['start station name'].value_counts()"
      ],
      "execution_count": 35,
      "outputs": [
        {
          "output_type": "execute_result",
          "data": {
            "text/plain": [
              "West St & Chambers St                10688\n",
              "Broadway & E 22 St                   10662\n",
              "Christopher St & Greenwich St         8290\n",
              "E 47 St & Park Ave                    7714\n",
              "12 Ave & W 40 St                      7566\n",
              "University Pl & E 14 St               7008\n",
              "E 10 St & Avenue A                    5825\n",
              "Canal St & Rutgers St                 5579\n",
              "Greenwich St & W Houston St           5342\n",
              "Grand Army Plaza & Central Park S     5118\n",
              "E 20 St & FDR Drive                   5004\n",
              "Allen St & Stanton St                 4810\n",
              "6 Ave & Canal St                      4562\n",
              "E 2 St & Avenue B                     3770\n",
              "S 5 Pl & S 5 St                       3196\n",
              "Old Slip & Front St                   1890\n",
              "W 52 St & 5 Ave                        811\n",
              "Name: start station name, dtype: int64"
            ]
          },
          "metadata": {
            "tags": []
          },
          "execution_count": 35
        }
      ]
    },
    {
      "cell_type": "code",
      "metadata": {
        "id": "xZhKxvoiP8B1",
        "colab_type": "code",
        "outputId": "6b6d198b-243b-4e3c-8db4-2e1272f10c48",
        "colab": {
          "base_uri": "https://localhost:8080/",
          "height": 68
        }
      },
      "source": [
        "valetstart_oneway = df[ df['sstation_valet'] & (df['roundtrip'] == False)]\n",
        "per_oneway = (valetstart_oneway.tripduration.count()/count_valetstart)*100\n",
        "print(\"Percent of valet starts that are one way rides: \",round(per_oneway), \"%\")\n",
        "valetstart_roundtrip = df[ df['sstation_valet'] & df['roundtrip']]\n",
        "per_roundtrip = (valetstart_roundtrip.tripduration.count()/count_valetstart)*100\n",
        "print('Percent of valet starts that are roundtrip rides: ',round(per_roundtrip), '%')\n",
        "valetstart_valetstop = df[ df['sstation_valet'] & df['estation_valet']]\n",
        "per_valettovalet = (valetstart_valetstop.tripduration.count()/count_valetstart)*100\n",
        "print('Percent of valet starts that end at another valet station: ', round(per_valettovalet), '%')"
      ],
      "execution_count": 19,
      "outputs": [
        {
          "output_type": "stream",
          "text": [
            "Percent of valet starts that are one way rides:  98.0 %\n",
            "Percent of valet starts that are roundtrip rides:  2.0 %\n",
            "Percent of valet starts that end at another valet station:  11.0 %\n"
          ],
          "name": "stdout"
        }
      ]
    },
    {
      "cell_type": "markdown",
      "metadata": {
        "id": "j0dgNUo7S4If",
        "colab_type": "text"
      },
      "source": [
        "##Let's focus on the majority of the rides people embark on from valet stations: one way rides "
      ]
    },
    {
      "cell_type": "code",
      "metadata": {
        "id": "AJ50-FzsQov_",
        "colab_type": "code",
        "outputId": "15ec85bb-3794-4424-c824-7f7850fd2894",
        "colab": {
          "base_uri": "https://localhost:8080/",
          "height": 312
        }
      },
      "source": [
        "#are a lot of the valet start - one way rides similar lengths of time?\n",
        "#yes\n",
        "valetstart_oneway.hist(column='tripduration', bins=8)\n",
        "plt.ylabel('Frequency')\n",
        "plt.xlabel('Trip Duration in Seconds')\n",
        "plt.title('Valet Start - One way')"
      ],
      "execution_count": 20,
      "outputs": [
        {
          "output_type": "execute_result",
          "data": {
            "text/plain": [
              "Text(0.5, 1.0, 'Valet Start - One way')"
            ]
          },
          "metadata": {
            "tags": []
          },
          "execution_count": 20
        },
        {
          "output_type": "display_data",
          "data": {
            "image/png": "[encoded data removed]",
            "text/plain": [
              "<Figure size 432x288 with 1 Axes>"
            ]
          },
          "metadata": {
            "tags": []
          }
        }
      ]
    },
    {
      "cell_type": "code",
      "metadata": {
        "id": "xomj-O9tTWIl",
        "colab_type": "code",
        "colab": {
          "base_uri": "https://localhost:8080/",
          "height": 312
        },
        "outputId": "40df55a6-3751-4ad0-daf0-675bc46fce5d"
      },
      "source": [
        "#are a lot of the valet start - roundtrip rides similar lengths of time?\n",
        "#yes with outliers\n",
        "valetstart_roundtrip.hist(column='tripduration', bins=10)\n",
        "plt.ylabel('Frequency')\n",
        "plt.xlabel('Trip Duration in Seconds')\n",
        "plt.title('Valet Start - Roundtrip')"
      ],
      "execution_count": 21,
      "outputs": [
        {
          "output_type": "execute_result",
          "data": {
            "text/plain": [
              "Text(0.5, 1.0, 'Valet Start - Roundtrip')"
            ]
          },
          "metadata": {
            "tags": []
          },
          "execution_count": 21
        },
        {
          "output_type": "display_data",
          "data": {
            "image/png": "[encoded data removed]",
            "text/plain": [
              "<Figure size 432x288 with 1 Axes>"
            ]
          },
          "metadata": {
            "tags": []
          }
        }
      ]
    },
    {
      "cell_type": "code",
      "metadata": {
        "id": "PqhSjX7KTY6-",
        "colab_type": "code",
        "colab": {
          "base_uri": "https://localhost:8080/",
          "height": 312
        },
        "outputId": "39de1041-18c2-4d8d-8ea0-9d64261e99cd"
      },
      "source": [
        "#are a lot of the valet start - one way rides - valet end similar lengths of time?\n",
        "#majority, yes\n",
        "valetstart_valetstop.hist(column='tripduration', bins=6)\n",
        "plt.ylabel('Frequency')\n",
        "plt.xlabel('Trip Duration in Seconds')\n",
        "plt.title('Valet Start - One way - Valet End')"
      ],
      "execution_count": 22,
      "outputs": [
        {
          "output_type": "execute_result",
          "data": {
            "text/plain": [
              "Text(0.5, 1.0, 'Valet Start - One way - Valet End')"
            ]
          },
          "metadata": {
            "tags": []
          },
          "execution_count": 22
        },
        {
          "output_type": "display_data",
          "data": {
            "image/png": "[encoded data removed]",
            "text/plain": [
              "<Figure size 432x288 with 1 Axes>"
            ]
          },
          "metadata": {
            "tags": []
          }
        }
      ]
    },
    {
      "cell_type": "markdown",
      "metadata": {
        "id": "ZyvKxRAaqs5f",
        "colab_type": "text"
      },
      "source": [
        "Makes sense: commutes would be one way rides relatively shorter durations compared to roundtrip rides.\n",
        "##Where are they going?"
      ]
    },
    {
      "cell_type": "code",
      "metadata": {
        "id": "GGZ8CFUTG20U",
        "colab_type": "code",
        "outputId": "4e08267d-1711-4ff1-bc2b-ae789b5c268a",
        "colab": {
          "base_uri": "https://localhost:8080/",
          "height": 476
        }
      },
      "source": [
        "#what are the most popular valet start - one way trips?\n",
        "trips = valetstart_oneway.groupby('start station name')['end station name'].value_counts().sort_values(ascending=False)\n",
        "trips.head(25)"
      ],
      "execution_count": 28,
      "outputs": [
        {
          "output_type": "execute_result",
          "data": {
            "text/plain": [
              "start station name             end station name             \n",
              "West St & Chambers St          Pier 40 - Hudson River Park      360\n",
              "12 Ave & W 40 St               West St & Chambers St            347\n",
              "West St & Chambers St          Christopher St & Greenwich St    331\n",
              "                               12 Ave & W 40 St                 319\n",
              "E 10 St & Avenue A             Lafayette St & E 8 St            296\n",
              "                               Broadway & E 14 St               296\n",
              "6 Ave & Canal St               Barclay St & Church St           289\n",
              "West St & Chambers St          Washington St & Gansevoort St    288\n",
              "E 47 St & Park Ave             W 33 St & 7 Ave                  271\n",
              "Greenwich St & W Houston St    West St & Chambers St            270\n",
              "Broadway & E 22 St             E 17 St & Broadway               261\n",
              "West St & Chambers St          Barrow St & Hudson St            258\n",
              "E 47 St & Park Ave             W 41 St & 8 Ave                  252\n",
              "Christopher St & Greenwich St  Washington St & Gansevoort St    246\n",
              "Canal St & Rutgers St          Henry St & Grand St              244\n",
              "West St & Chambers St          W 20 St & 11 Ave                 243\n",
              "Broadway & E 22 St             Pershing Square North            240\n",
              "E 47 St & Park Ave             W 49 St & 8 Ave                  238\n",
              "Broadway & E 22 St             E 23 St & 1 Ave                  232\n",
              "Christopher St & Greenwich St  West St & Chambers St            226\n",
              "E 47 St & Park Ave             Broadway & W 32 St               221\n",
              "West St & Chambers St          West Thames St                   219\n",
              "                               Little West St & 1 Pl            217\n",
              "                               Centre St & Chambers St          213\n",
              "University Pl & E 14 St        W 13 St & 7 Ave                  208\n",
              "Name: end station name, dtype: int64"
            ]
          },
          "metadata": {
            "tags": []
          },
          "execution_count": 28
        }
      ]
    },
    {
      "cell_type": "code",
      "metadata": {
        "id": "xHVKg3H_Lbo-",
        "colab_type": "code",
        "outputId": "087ad975-909f-44f7-f399-ceea4f5a1477",
        "colab": {
          "base_uri": "https://localhost:8080/",
          "height": 286
        }
      },
      "source": [
        "plot_trips = valetstart_oneway.groupby('start station name')['end station name'].value_counts().sort_values(ascending=False).head(25)\n",
        "plot_trips.sort_values(ascending=True).plot(kind='barh')"
      ],
      "execution_count": 29,
      "outputs": [
        {
          "output_type": "execute_result",
          "data": {
            "text/plain": [
              "<matplotlib.axes._subplots.AxesSubplot at 0x7f37a877f6d8>"
            ]
          },
          "metadata": {
            "tags": []
          },
          "execution_count": 29
        },
        {
          "output_type": "display_data",
          "data": {
            "image/png": "[encoded data removed]",
            "text/plain": [
              "<Figure size 432x288 with 1 Axes>"
            ]
          },
          "metadata": {
            "tags": []
          }
        }
      ]
    }
  ]
}